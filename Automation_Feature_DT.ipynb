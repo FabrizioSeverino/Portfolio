{
  "nbformat": 4,
  "nbformat_minor": 0,
  "metadata": {
    "colab": {
      "provenance": [],
      "authorship_tag": "ABX9TyP0ulEU/PHHktocwXIf1su7",
      "include_colab_link": true
    },
    "kernelspec": {
      "name": "python3",
      "display_name": "Python 3"
    },
    "language_info": {
      "name": "python"
    }
  },
  "cells": [
    {
      "cell_type": "markdown",
      "metadata": {
        "id": "view-in-github",
        "colab_type": "text"
      },
      "source": [
        "<a href=\"https://colab.research.google.com/github/FabrizioSeverino/Portfolio/blob/main/Automation_Feature_DT.ipynb\" target=\"_parent\"><img src=\"https://colab.research.google.com/assets/colab-badge.svg\" alt=\"Open In Colab\"/></a>"
      ]
    },
    {
      "cell_type": "markdown",
      "source": [
        "# Automatizzare la selezione delle variabili con Python"
      ],
      "metadata": {
        "id": "ODdXqA-8jcwW"
      }
    },
    {
      "cell_type": "markdown",
      "source": [
        "La selezione delle variabili (feature selection) è una fase fondamentale nell’apprendimento automatico (machine learning), in quanto aiuta a migliorare le prestazioni del modello eliminando le caratteristiche irrilevanti o ridondanti.\n",
        "Un metodo efficace per la selezione delle caratteristiche è l’uso degli Alberi Decisionali (Decision Trees), che classificano le variabili in base alla loro importanza nella previsione della variabile target.\n",
        "In questo notebook, spiegherò come automatizzare la selezione delle caratteristiche con gli Alberi Decisionali usando Python."
      ],
      "metadata": {
        "id": "fHVY2tiKjzmv"
      }
    },
    {
      "cell_type": "markdown",
      "source": [
        "**Cos'è la Selezione Automatica delle Caratteristiche?**  \n",
        "La selezione automatica delle caratteristiche è come una pipeline che rimuove le caratteristiche irrilevanti o ridondanti, portando ai seguenti vantaggi:\n",
        "\n",
        "- Tempi di addestramento più rapidi\n",
        "\n",
        "- Riduzione dell’overfitting\n",
        "\n",
        "- Maggiore accuratezza del modello\n",
        "\n",
        "- Migliore interpretabilità del modello\n",
        "\n",
        "La valutazione dell'importanza delle caratteristiche basata sugli Alberi Decisionali è uno dei metodi migliori per la selezione delle caratteristiche, poiché gli alberi decisionali assegnano naturalmente un punteggio di importanza a ciascuna variabile in base al loro contributo nella riduzione dell'errore."
      ],
      "metadata": {
        "id": "8m6aahSbkEW5"
      }
    },
    {
      "cell_type": "markdown",
      "source": [
        "Una compagnia di ride-sharing vuole implementare una strategia di prezzi dinamici per ottimizzare le tariffe in base alle condizioni di mercato in tempo reale. Attualmente, l’azienda utilizza solo la durata della corsa per determinare le tariffe. L'obiettivo è sfruttare tecniche basate sui dati per analizzare dati storici e sviluppare un modello predittivo in grado di regolare dinamicamente i prezzi in risposta ai cambiamenti delle condizioni.\n",
        "\n",
        "È stato fornito un dataset contenente dati storici sulle corse. Il dataset include caratteristiche come:\n",
        "\n",
        "- numero di passeggeri,\n",
        "\n",
        "- numero di autisti,\n",
        "\n",
        "- categoria della località,\n",
        "\n",
        "- stato di fidelizzazione del cliente,\n",
        "\n",
        "- numero di corse passate,\n",
        "\n",
        "- valutazione media,\n",
        "\n",
        "- orario della prenotazione,\n",
        "\n",
        "- tipo di veicolo,\n",
        "\n",
        "- durata prevista della corsa,\n",
        "\n",
        "- costo storico delle corse.\n",
        "\n",
        "Il mio obiettivo è costruire un modello di prezzo dinamico che incorpori le caratteristiche fornite per prevedere tariffe ottimali per le corse in tempo reale. Il modello deve tenere conto di fattori come i modelli di domanda e la disponibilità dell’offerta.\n",
        "\n",
        "\n",
        "Il dataset è stato preso da Statso: [Dataset per l'esercitazione](https://statso.io/dynamic-pricing-case-study/)"
      ],
      "metadata": {
        "id": "t5_hHXpykbq1"
      }
    },
    {
      "cell_type": "markdown",
      "source": [
        "Per prima cosa, importo i dati e analizzo la loro struttura per iniziare ad automatizzare la selezione delle variabili:"
      ],
      "metadata": {
        "id": "WGFeAmTxlzQG"
      }
    },
    {
      "cell_type": "code",
      "execution_count": 1,
      "metadata": {
        "colab": {
          "base_uri": "https://localhost:8080/",
          "height": 226
        },
        "id": "IhuLtU3NibHU",
        "outputId": "8cbc54aa-e310-4a70-d1aa-ce7f1724bbe2"
      },
      "outputs": [
        {
          "output_type": "execute_result",
          "data": {
            "text/plain": [
              "   Number_of_Riders  Number_of_Drivers Location_Category  \\\n",
              "0                90                 45             Urban   \n",
              "1                58                 39          Suburban   \n",
              "2                42                 31             Rural   \n",
              "3                89                 28             Rural   \n",
              "4                78                 22             Rural   \n",
              "\n",
              "  Customer_Loyalty_Status  Number_of_Past_Rides  Average_Ratings  \\\n",
              "0                  Silver                    13             4.47   \n",
              "1                  Silver                    72             4.06   \n",
              "2                  Silver                     0             3.99   \n",
              "3                 Regular                    67             4.31   \n",
              "4                 Regular                    74             3.77   \n",
              "\n",
              "  Time_of_Booking Vehicle_Type  Expected_Ride_Duration  \\\n",
              "0           Night      Premium                      90   \n",
              "1         Evening      Economy                      43   \n",
              "2       Afternoon      Premium                      76   \n",
              "3       Afternoon      Premium                     134   \n",
              "4       Afternoon      Economy                     149   \n",
              "\n",
              "   Historical_Cost_of_Ride  \n",
              "0               284.257273  \n",
              "1               173.874753  \n",
              "2               329.795469  \n",
              "3               470.201232  \n",
              "4               579.681422  "
            ],
            "text/html": [
              "\n",
              "  <div id=\"df-c9ae573b-b4be-4ba0-b45f-572b8b9adcfe\" class=\"colab-df-container\">\n",
              "    <div>\n",
              "<style scoped>\n",
              "    .dataframe tbody tr th:only-of-type {\n",
              "        vertical-align: middle;\n",
              "    }\n",
              "\n",
              "    .dataframe tbody tr th {\n",
              "        vertical-align: top;\n",
              "    }\n",
              "\n",
              "    .dataframe thead th {\n",
              "        text-align: right;\n",
              "    }\n",
              "</style>\n",
              "<table border=\"1\" class=\"dataframe\">\n",
              "  <thead>\n",
              "    <tr style=\"text-align: right;\">\n",
              "      <th></th>\n",
              "      <th>Number_of_Riders</th>\n",
              "      <th>Number_of_Drivers</th>\n",
              "      <th>Location_Category</th>\n",
              "      <th>Customer_Loyalty_Status</th>\n",
              "      <th>Number_of_Past_Rides</th>\n",
              "      <th>Average_Ratings</th>\n",
              "      <th>Time_of_Booking</th>\n",
              "      <th>Vehicle_Type</th>\n",
              "      <th>Expected_Ride_Duration</th>\n",
              "      <th>Historical_Cost_of_Ride</th>\n",
              "    </tr>\n",
              "  </thead>\n",
              "  <tbody>\n",
              "    <tr>\n",
              "      <th>0</th>\n",
              "      <td>90</td>\n",
              "      <td>45</td>\n",
              "      <td>Urban</td>\n",
              "      <td>Silver</td>\n",
              "      <td>13</td>\n",
              "      <td>4.47</td>\n",
              "      <td>Night</td>\n",
              "      <td>Premium</td>\n",
              "      <td>90</td>\n",
              "      <td>284.257273</td>\n",
              "    </tr>\n",
              "    <tr>\n",
              "      <th>1</th>\n",
              "      <td>58</td>\n",
              "      <td>39</td>\n",
              "      <td>Suburban</td>\n",
              "      <td>Silver</td>\n",
              "      <td>72</td>\n",
              "      <td>4.06</td>\n",
              "      <td>Evening</td>\n",
              "      <td>Economy</td>\n",
              "      <td>43</td>\n",
              "      <td>173.874753</td>\n",
              "    </tr>\n",
              "    <tr>\n",
              "      <th>2</th>\n",
              "      <td>42</td>\n",
              "      <td>31</td>\n",
              "      <td>Rural</td>\n",
              "      <td>Silver</td>\n",
              "      <td>0</td>\n",
              "      <td>3.99</td>\n",
              "      <td>Afternoon</td>\n",
              "      <td>Premium</td>\n",
              "      <td>76</td>\n",
              "      <td>329.795469</td>\n",
              "    </tr>\n",
              "    <tr>\n",
              "      <th>3</th>\n",
              "      <td>89</td>\n",
              "      <td>28</td>\n",
              "      <td>Rural</td>\n",
              "      <td>Regular</td>\n",
              "      <td>67</td>\n",
              "      <td>4.31</td>\n",
              "      <td>Afternoon</td>\n",
              "      <td>Premium</td>\n",
              "      <td>134</td>\n",
              "      <td>470.201232</td>\n",
              "    </tr>\n",
              "    <tr>\n",
              "      <th>4</th>\n",
              "      <td>78</td>\n",
              "      <td>22</td>\n",
              "      <td>Rural</td>\n",
              "      <td>Regular</td>\n",
              "      <td>74</td>\n",
              "      <td>3.77</td>\n",
              "      <td>Afternoon</td>\n",
              "      <td>Economy</td>\n",
              "      <td>149</td>\n",
              "      <td>579.681422</td>\n",
              "    </tr>\n",
              "  </tbody>\n",
              "</table>\n",
              "</div>\n",
              "    <div class=\"colab-df-buttons\">\n",
              "\n",
              "  <div class=\"colab-df-container\">\n",
              "    <button class=\"colab-df-convert\" onclick=\"convertToInteractive('df-c9ae573b-b4be-4ba0-b45f-572b8b9adcfe')\"\n",
              "            title=\"Convert this dataframe to an interactive table.\"\n",
              "            style=\"display:none;\">\n",
              "\n",
              "  <svg xmlns=\"http://www.w3.org/2000/svg\" height=\"24px\" viewBox=\"0 -960 960 960\">\n",
              "    <path d=\"M120-120v-720h720v720H120Zm60-500h600v-160H180v160Zm220 220h160v-160H400v160Zm0 220h160v-160H400v160ZM180-400h160v-160H180v160Zm440 0h160v-160H620v160ZM180-180h160v-160H180v160Zm440 0h160v-160H620v160Z\"/>\n",
              "  </svg>\n",
              "    </button>\n",
              "\n",
              "  <style>\n",
              "    .colab-df-container {\n",
              "      display:flex;\n",
              "      gap: 12px;\n",
              "    }\n",
              "\n",
              "    .colab-df-convert {\n",
              "      background-color: #E8F0FE;\n",
              "      border: none;\n",
              "      border-radius: 50%;\n",
              "      cursor: pointer;\n",
              "      display: none;\n",
              "      fill: #1967D2;\n",
              "      height: 32px;\n",
              "      padding: 0 0 0 0;\n",
              "      width: 32px;\n",
              "    }\n",
              "\n",
              "    .colab-df-convert:hover {\n",
              "      background-color: #E2EBFA;\n",
              "      box-shadow: 0px 1px 2px rgba(60, 64, 67, 0.3), 0px 1px 3px 1px rgba(60, 64, 67, 0.15);\n",
              "      fill: #174EA6;\n",
              "    }\n",
              "\n",
              "    .colab-df-buttons div {\n",
              "      margin-bottom: 4px;\n",
              "    }\n",
              "\n",
              "    [theme=dark] .colab-df-convert {\n",
              "      background-color: #3B4455;\n",
              "      fill: #D2E3FC;\n",
              "    }\n",
              "\n",
              "    [theme=dark] .colab-df-convert:hover {\n",
              "      background-color: #434B5C;\n",
              "      box-shadow: 0px 1px 3px 1px rgba(0, 0, 0, 0.15);\n",
              "      filter: drop-shadow(0px 1px 2px rgba(0, 0, 0, 0.3));\n",
              "      fill: #FFFFFF;\n",
              "    }\n",
              "  </style>\n",
              "\n",
              "    <script>\n",
              "      const buttonEl =\n",
              "        document.querySelector('#df-c9ae573b-b4be-4ba0-b45f-572b8b9adcfe button.colab-df-convert');\n",
              "      buttonEl.style.display =\n",
              "        google.colab.kernel.accessAllowed ? 'block' : 'none';\n",
              "\n",
              "      async function convertToInteractive(key) {\n",
              "        const element = document.querySelector('#df-c9ae573b-b4be-4ba0-b45f-572b8b9adcfe');\n",
              "        const dataTable =\n",
              "          await google.colab.kernel.invokeFunction('convertToInteractive',\n",
              "                                                    [key], {});\n",
              "        if (!dataTable) return;\n",
              "\n",
              "        const docLinkHtml = 'Like what you see? Visit the ' +\n",
              "          '<a target=\"_blank\" href=https://colab.research.google.com/notebooks/data_table.ipynb>data table notebook</a>'\n",
              "          + ' to learn more about interactive tables.';\n",
              "        element.innerHTML = '';\n",
              "        dataTable['output_type'] = 'display_data';\n",
              "        await google.colab.output.renderOutput(dataTable, element);\n",
              "        const docLink = document.createElement('div');\n",
              "        docLink.innerHTML = docLinkHtml;\n",
              "        element.appendChild(docLink);\n",
              "      }\n",
              "    </script>\n",
              "  </div>\n",
              "\n",
              "\n",
              "    <div id=\"df-c74cd479-3cb7-4bf6-a90d-94e35be20cd8\">\n",
              "      <button class=\"colab-df-quickchart\" onclick=\"quickchart('df-c74cd479-3cb7-4bf6-a90d-94e35be20cd8')\"\n",
              "                title=\"Suggest charts\"\n",
              "                style=\"display:none;\">\n",
              "\n",
              "<svg xmlns=\"http://www.w3.org/2000/svg\" height=\"24px\"viewBox=\"0 0 24 24\"\n",
              "     width=\"24px\">\n",
              "    <g>\n",
              "        <path d=\"M19 3H5c-1.1 0-2 .9-2 2v14c0 1.1.9 2 2 2h14c1.1 0 2-.9 2-2V5c0-1.1-.9-2-2-2zM9 17H7v-7h2v7zm4 0h-2V7h2v10zm4 0h-2v-4h2v4z\"/>\n",
              "    </g>\n",
              "</svg>\n",
              "      </button>\n",
              "\n",
              "<style>\n",
              "  .colab-df-quickchart {\n",
              "      --bg-color: #E8F0FE;\n",
              "      --fill-color: #1967D2;\n",
              "      --hover-bg-color: #E2EBFA;\n",
              "      --hover-fill-color: #174EA6;\n",
              "      --disabled-fill-color: #AAA;\n",
              "      --disabled-bg-color: #DDD;\n",
              "  }\n",
              "\n",
              "  [theme=dark] .colab-df-quickchart {\n",
              "      --bg-color: #3B4455;\n",
              "      --fill-color: #D2E3FC;\n",
              "      --hover-bg-color: #434B5C;\n",
              "      --hover-fill-color: #FFFFFF;\n",
              "      --disabled-bg-color: #3B4455;\n",
              "      --disabled-fill-color: #666;\n",
              "  }\n",
              "\n",
              "  .colab-df-quickchart {\n",
              "    background-color: var(--bg-color);\n",
              "    border: none;\n",
              "    border-radius: 50%;\n",
              "    cursor: pointer;\n",
              "    display: none;\n",
              "    fill: var(--fill-color);\n",
              "    height: 32px;\n",
              "    padding: 0;\n",
              "    width: 32px;\n",
              "  }\n",
              "\n",
              "  .colab-df-quickchart:hover {\n",
              "    background-color: var(--hover-bg-color);\n",
              "    box-shadow: 0 1px 2px rgba(60, 64, 67, 0.3), 0 1px 3px 1px rgba(60, 64, 67, 0.15);\n",
              "    fill: var(--button-hover-fill-color);\n",
              "  }\n",
              "\n",
              "  .colab-df-quickchart-complete:disabled,\n",
              "  .colab-df-quickchart-complete:disabled:hover {\n",
              "    background-color: var(--disabled-bg-color);\n",
              "    fill: var(--disabled-fill-color);\n",
              "    box-shadow: none;\n",
              "  }\n",
              "\n",
              "  .colab-df-spinner {\n",
              "    border: 2px solid var(--fill-color);\n",
              "    border-color: transparent;\n",
              "    border-bottom-color: var(--fill-color);\n",
              "    animation:\n",
              "      spin 1s steps(1) infinite;\n",
              "  }\n",
              "\n",
              "  @keyframes spin {\n",
              "    0% {\n",
              "      border-color: transparent;\n",
              "      border-bottom-color: var(--fill-color);\n",
              "      border-left-color: var(--fill-color);\n",
              "    }\n",
              "    20% {\n",
              "      border-color: transparent;\n",
              "      border-left-color: var(--fill-color);\n",
              "      border-top-color: var(--fill-color);\n",
              "    }\n",
              "    30% {\n",
              "      border-color: transparent;\n",
              "      border-left-color: var(--fill-color);\n",
              "      border-top-color: var(--fill-color);\n",
              "      border-right-color: var(--fill-color);\n",
              "    }\n",
              "    40% {\n",
              "      border-color: transparent;\n",
              "      border-right-color: var(--fill-color);\n",
              "      border-top-color: var(--fill-color);\n",
              "    }\n",
              "    60% {\n",
              "      border-color: transparent;\n",
              "      border-right-color: var(--fill-color);\n",
              "    }\n",
              "    80% {\n",
              "      border-color: transparent;\n",
              "      border-right-color: var(--fill-color);\n",
              "      border-bottom-color: var(--fill-color);\n",
              "    }\n",
              "    90% {\n",
              "      border-color: transparent;\n",
              "      border-bottom-color: var(--fill-color);\n",
              "    }\n",
              "  }\n",
              "</style>\n",
              "\n",
              "      <script>\n",
              "        async function quickchart(key) {\n",
              "          const quickchartButtonEl =\n",
              "            document.querySelector('#' + key + ' button');\n",
              "          quickchartButtonEl.disabled = true;  // To prevent multiple clicks.\n",
              "          quickchartButtonEl.classList.add('colab-df-spinner');\n",
              "          try {\n",
              "            const charts = await google.colab.kernel.invokeFunction(\n",
              "                'suggestCharts', [key], {});\n",
              "          } catch (error) {\n",
              "            console.error('Error during call to suggestCharts:', error);\n",
              "          }\n",
              "          quickchartButtonEl.classList.remove('colab-df-spinner');\n",
              "          quickchartButtonEl.classList.add('colab-df-quickchart-complete');\n",
              "        }\n",
              "        (() => {\n",
              "          let quickchartButtonEl =\n",
              "            document.querySelector('#df-c74cd479-3cb7-4bf6-a90d-94e35be20cd8 button');\n",
              "          quickchartButtonEl.style.display =\n",
              "            google.colab.kernel.accessAllowed ? 'block' : 'none';\n",
              "        })();\n",
              "      </script>\n",
              "    </div>\n",
              "\n",
              "    </div>\n",
              "  </div>\n"
            ],
            "application/vnd.google.colaboratory.intrinsic+json": {
              "type": "dataframe",
              "variable_name": "dataset",
              "summary": "{\n  \"name\": \"dataset\",\n  \"rows\": 1000,\n  \"fields\": [\n    {\n      \"column\": \"Number_of_Riders\",\n      \"properties\": {\n        \"dtype\": \"number\",\n        \"std\": 23,\n        \"min\": 20,\n        \"max\": 100,\n        \"num_unique_values\": 81,\n        \"samples\": [\n          68,\n          90,\n          48\n        ],\n        \"semantic_type\": \"\",\n        \"description\": \"\"\n      }\n    },\n    {\n      \"column\": \"Number_of_Drivers\",\n      \"properties\": {\n        \"dtype\": \"number\",\n        \"std\": 19,\n        \"min\": 5,\n        \"max\": 89,\n        \"num_unique_values\": 79,\n        \"samples\": [\n          55,\n          45,\n          9\n        ],\n        \"semantic_type\": \"\",\n        \"description\": \"\"\n      }\n    },\n    {\n      \"column\": \"Location_Category\",\n      \"properties\": {\n        \"dtype\": \"category\",\n        \"num_unique_values\": 3,\n        \"samples\": [\n          \"Urban\",\n          \"Suburban\",\n          \"Rural\"\n        ],\n        \"semantic_type\": \"\",\n        \"description\": \"\"\n      }\n    },\n    {\n      \"column\": \"Customer_Loyalty_Status\",\n      \"properties\": {\n        \"dtype\": \"category\",\n        \"num_unique_values\": 3,\n        \"samples\": [\n          \"Silver\",\n          \"Regular\",\n          \"Gold\"\n        ],\n        \"semantic_type\": \"\",\n        \"description\": \"\"\n      }\n    },\n    {\n      \"column\": \"Number_of_Past_Rides\",\n      \"properties\": {\n        \"dtype\": \"number\",\n        \"std\": 29,\n        \"min\": 0,\n        \"max\": 100,\n        \"num_unique_values\": 101,\n        \"samples\": [\n          42,\n          31,\n          90\n        ],\n        \"semantic_type\": \"\",\n        \"description\": \"\"\n      }\n    },\n    {\n      \"column\": \"Average_Ratings\",\n      \"properties\": {\n        \"dtype\": \"number\",\n        \"std\": 0.43578088138028376,\n        \"min\": 3.5,\n        \"max\": 5.0,\n        \"num_unique_values\": 151,\n        \"samples\": [\n          4.26,\n          4.82,\n          4.91\n        ],\n        \"semantic_type\": \"\",\n        \"description\": \"\"\n      }\n    },\n    {\n      \"column\": \"Time_of_Booking\",\n      \"properties\": {\n        \"dtype\": \"category\",\n        \"num_unique_values\": 4,\n        \"samples\": [\n          \"Evening\",\n          \"Morning\",\n          \"Night\"\n        ],\n        \"semantic_type\": \"\",\n        \"description\": \"\"\n      }\n    },\n    {\n      \"column\": \"Vehicle_Type\",\n      \"properties\": {\n        \"dtype\": \"category\",\n        \"num_unique_values\": 2,\n        \"samples\": [\n          \"Economy\",\n          \"Premium\"\n        ],\n        \"semantic_type\": \"\",\n        \"description\": \"\"\n      }\n    },\n    {\n      \"column\": \"Expected_Ride_Duration\",\n      \"properties\": {\n        \"dtype\": \"number\",\n        \"std\": 49,\n        \"min\": 10,\n        \"max\": 180,\n        \"num_unique_values\": 171,\n        \"samples\": [\n          145,\n          28\n        ],\n        \"semantic_type\": \"\",\n        \"description\": \"\"\n      }\n    },\n    {\n      \"column\": \"Historical_Cost_of_Ride\",\n      \"properties\": {\n        \"dtype\": \"number\",\n        \"std\": 187.15875622018004,\n        \"min\": 25.993449448411635,\n        \"max\": 836.1164185613576,\n        \"num_unique_values\": 1000,\n        \"samples\": [\n          470.2690237026412,\n          286.409294385432\n        ],\n        \"semantic_type\": \"\",\n        \"description\": \"\"\n      }\n    }\n  ]\n}"
            }
          },
          "metadata": {},
          "execution_count": 1
        }
      ],
      "source": [
        "import pandas as pd\n",
        "\n",
        "dataset = pd.read_csv('/content/dynamic_pricing.csv')\n",
        "dataset.head()"
      ]
    },
    {
      "cell_type": "markdown",
      "source": [
        "La variabile target, Historical_Cost_of_Ride (costo della corsa), rappresenta il costo, mentre le altre variabili di input includono diversi valori numerici e categorici. Iniziamo ad automatizzare la selezione delle feature passo dopo passo."
      ],
      "metadata": {
        "id": "qqcWG_rWmOFr"
      }
    },
    {
      "cell_type": "markdown",
      "source": [
        "**Passaggio 1: Codifica delle Variabili Categoriali**  \n",
        "Useremo **LabelEncoder** per convertire le variabili categoriche in valori numerici:"
      ],
      "metadata": {
        "id": "Db99yiL5mU1C"
      }
    },
    {
      "cell_type": "code",
      "source": [
        "from sklearn.preprocessing import LabelEncoder\n",
        "\n",
        "# identifico le colonne categoriali\n",
        "categorical_cols = ['Location_Category', 'Customer_Loyalty_Status', 'Time_of_Booking', 'Vehicle_Type']  # Replace with actual categorical columns\n",
        "\n",
        "# applico il Label Encoding\n",
        "label_encoders = {}\n",
        "for col in categorical_cols:\n",
        "    le = LabelEncoder()\n",
        "    dataset[col] = le.fit_transform(dataset[col])\n",
        "    label_encoders[col] = le"
      ],
      "metadata": {
        "id": "O7nx1y5umev7"
      },
      "execution_count": 4,
      "outputs": []
    },
    {
      "cell_type": "markdown",
      "source": [
        "Ora tutte le caratteristiche sono numeriche e pronte per la selezione delle feature."
      ],
      "metadata": {
        "id": "O0xLtCFAm_1S"
      }
    },
    {
      "cell_type": "markdown",
      "source": [
        "**Passaggio 2: Addestramento di un albero decisionale per la selezione delle feature**  \n",
        "Ora addestreremo un Decision Tree Regressor ed estrarremo l’importanza delle feature:"
      ],
      "metadata": {
        "id": "9tx480G0nBEu"
      }
    },
    {
      "cell_type": "code",
      "source": [
        "X = dataset.drop(columns=['Historical_Cost_of_Ride'])\n",
        "y = dataset['Historical_Cost_of_Ride']\n",
        "\n",
        "from sklearn.tree import DecisionTreeRegressor\n",
        "\n",
        "model = DecisionTreeRegressor(random_state=42)\n",
        "model.fit(X, y)\n",
        "\n",
        "feature_importances = pd.DataFrame({\n",
        "    'Feature': X.columns,\n",
        "    'Importance': model.feature_importances_\n",
        "})\n",
        "\n",
        "# Ordino per importanza\n",
        "feature_importances = feature_importances.sort_values(by='Importance', ascending=False)\n",
        "\n",
        "print(feature_importances)"
      ],
      "metadata": {
        "colab": {
          "base_uri": "https://localhost:8080/"
        },
        "id": "BKQIz8rrnP3O",
        "outputId": "8d565a36-fa17-46f5-cfc6-9481de0012f8"
      },
      "execution_count": 5,
      "outputs": [
        {
          "output_type": "stream",
          "name": "stdout",
          "text": [
            "                   Feature  Importance\n",
            "8   Expected_Ride_Duration    0.877188\n",
            "5          Average_Ratings    0.033423\n",
            "4     Number_of_Past_Rides    0.021423\n",
            "1        Number_of_Drivers    0.019312\n",
            "0         Number_of_Riders    0.017676\n",
            "7             Vehicle_Type    0.013145\n",
            "2        Location_Category    0.009164\n",
            "6          Time_of_Booking    0.005836\n",
            "3  Customer_Loyalty_Status    0.002833\n"
          ]
        }
      ]
    },
    {
      "cell_type": "markdown",
      "source": [
        "Informazione chiave: **Expected_Ride_Duration** è di gran lunga la caratteristica più importante."
      ],
      "metadata": {
        "id": "KSMl9t8untal"
      }
    },
    {
      "cell_type": "markdown",
      "source": [
        "**Passaggio 3: Automatizzare la selezione delle feature**  \n",
        "Ora possiamo automatizzare la selezione delle feature mantenendo solo quelle con un’importanza superiore all’1%:"
      ],
      "metadata": {
        "id": "CUJ_kW-HnvYl"
      }
    },
    {
      "cell_type": "code",
      "source": [
        "# definisco la soglia\n",
        "soglia = 0.01  # Mantenere le features con un'importanza > 1%\n",
        "\n",
        "features_selezionate = feature_importances[feature_importances['Importance'] > soglia]['Feature'].tolist()\n",
        "\n",
        "# fltro il dataset\n",
        "X_selected = X[features_selezionate]"
      ],
      "metadata": {
        "id": "0mm4tLSXn7st"
      },
      "execution_count": 6,
      "outputs": []
    },
    {
      "cell_type": "markdown",
      "source": [
        "Ora, **X_selected** contiene solo le caratteristiche più rilevanti per l’addestramento del modello finale. Ecco le migliori feature che abbiamo selezionato:"
      ],
      "metadata": {
        "id": "IpWGjbrDoe5L"
      }
    },
    {
      "cell_type": "code",
      "source": [
        "print(X_selected.columns)"
      ],
      "metadata": {
        "colab": {
          "base_uri": "https://localhost:8080/"
        },
        "id": "YUkLjNoZohDu",
        "outputId": "cf539aa8-e81a-4ae8-d47e-8f0ea23b701e"
      },
      "execution_count": 7,
      "outputs": [
        {
          "output_type": "stream",
          "name": "stdout",
          "text": [
            "Index(['Expected_Ride_Duration', 'Average_Ratings', 'Number_of_Past_Rides',\n",
            "       'Number_of_Drivers', 'Number_of_Riders', 'Vehicle_Type'],\n",
            "      dtype='object')\n"
          ]
        }
      ]
    },
    {
      "cell_type": "markdown",
      "source": [
        "**Riepilogo**  \n",
        "Un metodo efficace per la selezione delle caratteristiche è l’utilizzo degli Alberi Decisionali, che classificano le feature in base alla loro importanza nella previsione della variabile target."
      ],
      "metadata": {
        "id": "kV4sjaQFov4_"
      }
    }
  ]
}