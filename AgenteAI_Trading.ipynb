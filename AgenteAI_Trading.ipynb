{
  "nbformat": 4,
  "nbformat_minor": 0,
  "metadata": {
    "colab": {
      "provenance": [],
      "gpuType": "T4"
    },
    "kernelspec": {
      "name": "python3",
      "display_name": "Python 3"
    },
    "language_info": {
      "name": "python"
    },
    "accelerator": "GPU"
  },
  "cells": [
    {
      "cell_type": "markdown",
      "source": [
        "# **Trading AI Agent**\n",
        "In questo notebook andrò a mostrare come implementare bene un'agente AI che opera sulle stocks di Apple utilizzando Agentic AI. Agentic AI si riferisce a sistemi di intelligenza artificiale in grado di percepire il proprio ambiente, prendere decisioni e agire autonomamente per raggiungere un obiettivo. Questi agenti utilizzano tipicamente metodi di apprendimento per rinforzo (RL) per ottimizzare il loro comportamento nel tempo attraverso interazioni con l’ambiente."
      ],
      "metadata": {
        "id": "oe37xoxqwJ-7"
      }
    },
    {
      "cell_type": "markdown",
      "source": [
        "Analizziamo i componenti principali dell'Agentic AI attraverso il nostro esempio:\n",
        "\n",
        "\n",
        "*   **L'Agente**: L'agente è l'entità che prende decisioni all'interno del sistema AI. Nel nostro caso, l'agente di trading DQN sarà responsabile delle decisioni di trading basate sui dati di mercato.\n",
        "\n",
        "*   **L'Ambiente:** L'ambiente è il sistema esterno in cui opera l'agente. Il nostro ambiente di trading sarà costituito dai dati del mercato azionario, in cui l'agente interagirà con le variazioni di prezzo ed eseguirà operazioni.\n",
        "*   **Lo Stato:** Lo stato rappresenta le informazioni disponibili per l'agente in un dato momento. Lo stato del nostro agente di trading include il prezzo di chiusura delle azioni, le medie mobili e i rendimenti giornalieri.\n",
        "\n",
        "\n",
        "*   **Lo Spazio delle Azioni:** Lo spazio delle azioni definisce le operazioni che l'agente può eseguire. Il nostro agente di trading ha tre possibili azioni: Acquistare, Vendere e Mantenere la posizione.\n",
        "\n",
        "*   **La Funzione di Ricompensa:** La funzione di ricompensa valuta le prestazioni dell'agente assegnando un valore numerico alle sue azioni. L'obiettivo del nostro agente di trading sarà massimizzare il profitto totale entro la fine della sessione di trading\n",
        "\n",
        "\n",
        "\n",
        "\n",
        "\n"
      ],
      "metadata": {
        "id": "98C7Aik-xSsH"
      }
    },
    {
      "cell_type": "markdown",
      "source": [
        "Per prima cosa, importerò tutte le librerie Python necessarie e raccoglierò i dati di mercato delle azioni Apple da Yahoo Finance:"
      ],
      "metadata": {
        "id": "BG_UYzvqyYgV"
      }
    },
    {
      "cell_type": "code",
      "execution_count": 11,
      "metadata": {
        "colab": {
          "base_uri": "https://localhost:8080/"
        },
        "id": "L0wYNzudwDUC",
        "outputId": "a0650904-c8fe-42fa-a3cb-744d853a28f4"
      },
      "outputs": [
        {
          "output_type": "stream",
          "name": "stderr",
          "text": [
            "\r[*********************100%***********************]  1 of 1 completed\n"
          ]
        }
      ],
      "source": [
        "import yfinance as yf\n",
        "import pandas as pd\n",
        "import numpy as np\n",
        "import torch\n",
        "import torch.nn as nn\n",
        "import torch.optim as optim\n",
        "import random\n",
        "from collections import deque\n",
        "\n",
        "# Definire il simbolo dell'azione e il periodo di tempo\n",
        "symbol = \"AAPL\"\n",
        "start_date = \"2020-03-31\"\n",
        "end_date = \"2025-03-31\"\n",
        "\n",
        "# download dati storici\n",
        "data = yf.download(symbol, start=start_date, end=end_date)"
      ]
    },
    {
      "cell_type": "markdown",
      "source": [
        "Ora calcolerò gli indicatori tecnici che aiuteranno l'agente AI a prendere decisioni di trading migliori:"
      ],
      "metadata": {
        "id": "JD8qT4vOzqF-"
      }
    },
    {
      "cell_type": "code",
      "source": [
        "# feature engineering\n",
        "data['SMA_5'] = data['Close'].rolling(window=5).mean()\n",
        "data['SMA_20'] = data['Close'].rolling(window=20).mean()\n",
        "data['Returns'] = data['Close'].pct_change()"
      ],
      "metadata": {
        "id": "VWlv5zplzv8X"
      },
      "execution_count": 12,
      "outputs": []
    },
    {
      "cell_type": "markdown",
      "source": [
        "Ora rimuoviamo i valori mancanti e reimpostiamo l’index:"
      ],
      "metadata": {
        "id": "nLzU4eUwz8qx"
      }
    },
    {
      "cell_type": "code",
      "source": [
        "data.dropna(inplace=True)\n",
        "data.reset_index(drop=True, inplace=True)"
      ],
      "metadata": {
        "id": "e6XfCkGV0E4h"
      },
      "execution_count": 13,
      "outputs": []
    },
    {
      "cell_type": "markdown",
      "source": [
        "Successivamente, definiremo lo spazio delle azioni. L'agente AI ha tre possibili azioni:\n",
        "\n",
        "\n",
        "*   **HOLD:** Non fare nulla.\n",
        "\n",
        "*   **BUY:** Acquistare azioni.\n",
        "\n",
        "*   **SELL:** Vendere le azioni detenute.\n",
        "\n",
        "\n",
        "\n",
        "\n"
      ],
      "metadata": {
        "id": "E8Il4BlY0NfT"
      }
    },
    {
      "cell_type": "code",
      "source": [
        "# definire lo spazio d'azione\n",
        "AZIONI = {0: \"HOLD\", 1: \"BUY\", 2: \"SELL\"}"
      ],
      "metadata": {
        "id": "v6-bAnLK0xor"
      },
      "execution_count": 14,
      "outputs": []
    },
    {
      "cell_type": "markdown",
      "source": [
        "Ora estrarremo lo Stato dai dati:"
      ],
      "metadata": {
        "id": "9lnP3Gbm1K6f"
      }
    },
    {
      "cell_type": "code",
      "source": [
        "# funzione get state\n",
        "def get_state(data, index):\n",
        "    return np.array([\n",
        "        float(data.loc[index, 'Close']),\n",
        "        float(data.loc[index, 'SMA_5']),\n",
        "        float(data.loc[index, 'SMA_20']),\n",
        "        float(data.loc[index, 'Returns'])\n",
        "    ])"
      ],
      "metadata": {
        "id": "c3bCZUI01N4L"
      },
      "execution_count": 15,
      "outputs": []
    },
    {
      "cell_type": "markdown",
      "source": [
        "Questa funzione estrae la rappresentazione dello stato dal dataset in un dato indice temporale. Lo stato è un array che contiene:\n",
        "\n",
        "\n",
        "*   **Closing price**\n",
        "\n",
        "*   **5-day SMA**\n",
        "\n",
        "*   **20-day SMA**\n",
        "*  **Daily return percentage**\n",
        "\n",
        "Questa rappresentazione numerica del mercato azionario viene fornita al modello AI per prendere decisioni di trading.\n",
        "\n",
        "\n"
      ],
      "metadata": {
        "id": "B3rhyGol1f-Y"
      }
    },
    {
      "cell_type": "markdown",
      "source": [
        "Ora definiremo un ambiente di trading per interagire con l'agente **AI Deep Q-Network (DQN)**, che gli permetterà di imparare a fare trading in modo redditizio:"
      ],
      "metadata": {
        "id": "rBhIxSP12WiB"
      }
    },
    {
      "cell_type": "code",
      "source": [
        "# ambiente di trading\n",
        "class TradingEnvironment:\n",
        "    def __init__(self, data):\n",
        "        self.data = data\n",
        "        self.initial_balance = 10000\n",
        "        self.balance = self.initial_balance\n",
        "        self.holdings = 0\n",
        "        self.index = 0\n",
        "\n",
        "    def reset(self):\n",
        "        self.balance = self.initial_balance\n",
        "        self.holdings = 0\n",
        "        self.index = 0\n",
        "        return get_state(self.data, self.index)\n",
        "\n",
        "    def step(self, action):\n",
        "        price = float(self.data.loc[self.index, 'Close'])\n",
        "        reward = 0\n",
        "\n",
        "        if action == 1 and self.balance >= price:  # BUY\n",
        "            self.holdings = self.balance // price\n",
        "            self.balance -= self.holdings * price\n",
        "        elif action == 2 and self.holdings > 0:  # SELL\n",
        "            self.balance += self.holdings * price\n",
        "            self.holdings = 0\n",
        "\n",
        "        self.index += 1\n",
        "        done = self.index >= len(self.data) - 1\n",
        "\n",
        "        if done:\n",
        "            reward = self.balance - self.initial_balance\n",
        "\n",
        "        next_state = get_state(self.data, self.index) if not done else None\n",
        "        return next_state, reward, done, {}"
      ],
      "metadata": {
        "id": "cWHhZUav2j8s"
      },
      "execution_count": 16,
      "outputs": []
    },
    {
      "cell_type": "markdown",
      "source": [
        "L'ambiente è implementato come una classe che simula il mercato azionario. Tieni traccia del bilancio dell'agente, delle sue partecipazioni e dell'indice di mercato corrente, e fornisce nuovi stati e ricompense in risposta alle azioni dell'agente."
      ],
      "metadata": {
        "id": "KRNF55q_2wtN"
      }
    },
    {
      "cell_type": "markdown",
      "source": [
        "# **Deep Q-Network (DQN)**\n",
        "DQN è una rete neurale che approssima i valori Q per ogni coppia stato-azione. Ora definiremo l'architettura della rete neurale per il nostro Deep Q-Network. Sarà responsabile della previsione delle migliori azioni di trading basate sullo stato del mercato azionario:"
      ],
      "metadata": {
        "id": "JL1ge-6I238I"
      }
    },
    {
      "cell_type": "code",
      "source": [
        "# deep q-network\n",
        "class DQN(nn.Module):\n",
        "    def __init__(self, state_size, action_size):\n",
        "        super(DQN, self).__init__()\n",
        "        self.fc1 = nn.Linear(state_size, 64)\n",
        "        self.fc2 = nn.Linear(64, 64)\n",
        "        self.fc3 = nn.Linear(64, action_size)\n",
        "\n",
        "    def forward(self, x):\n",
        "        x = torch.relu(self.fc1(x))\n",
        "        x = torch.relu(self.fc2(x))\n",
        "        return self.fc3(x)"
      ],
      "metadata": {
        "id": "swAaQwGX3EAA"
      },
      "execution_count": 17,
      "outputs": []
    },
    {
      "cell_type": "markdown",
      "source": [
        "Qui abbiamo costruito un Deep Q-Network utilizzando PyTorch per ottimizzare le decisioni di trading azionario. Il modello presenta una rete neurale a tre strati per prevedere le azioni di trading, sfruttando l'attivazione ReLU per migliorare l'efficienza dell'apprendimento.\n",
        "\n",
        "Esso produce i Q-values, che l'agente utilizza per determinare la miglior azione da intraprendere: **acquistare**, **vendere** o **mantenere**, in base alle condizioni di mercato."
      ],
      "metadata": {
        "id": "sS4V9GF13Mvo"
      }
    },
    {
      "cell_type": "markdown",
      "source": [
        "Ora implementeremo l'agente AI che impara a fare trading azionario utilizzando il Deep Q-Learning. L'agente DQN interagirà con l'ambiente di trading, prenderà decisioni di trading (BUY,SELL,HOLD), memorizzerà le esperienze e imparerà da esse per migliorare le decisioni future:"
      ],
      "metadata": {
        "id": "B99OcIrq3jRz"
      }
    },
    {
      "cell_type": "code",
      "source": [
        "# DQN agent\n",
        "class DQNAgent:\n",
        "    def __init__(self, state_size, action_size):\n",
        "        self.state_size = state_size\n",
        "        self.action_size = action_size\n",
        "        self.memory = deque(maxlen=2000)\n",
        "        self.gamma = 0.95  # Discount factor\n",
        "        self.epsilon = 1.0  # Exploration rate\n",
        "        self.epsilon_min = 0.01\n",
        "        self.epsilon_decay = 0.995\n",
        "        self.learning_rate = 0.001\n",
        "        self.model = DQN(state_size, action_size)\n",
        "        self.optimizer = optim.Adam(self.model.parameters(), lr=self.learning_rate)\n",
        "        self.criterion = nn.MSELoss()\n",
        "\n",
        "    def remember(self, state, action, reward, next_state, done):\n",
        "        self.memory.append((state, action, reward, next_state, done))\n",
        "\n",
        "    def act(self, state):\n",
        "        if random.uniform(0, 1) < self.epsilon:\n",
        "            return random.choice(list(AZIONI.keys()))\n",
        "        state = torch.FloatTensor(state).unsqueeze(0)\n",
        "        with torch.no_grad():\n",
        "            q_values = self.model(state)\n",
        "        return torch.argmax(q_values).item()\n",
        "\n",
        "    def replay(self, batch_size):\n",
        "        if len(self.memory) < batch_size:\n",
        "            return\n",
        "        minibatch = random.sample(self.memory, batch_size)\n",
        "\n",
        "        for state, action, reward, next_state, done in minibatch:\n",
        "            target = reward\n",
        "            if not done:\n",
        "                next_state_tensor = torch.FloatTensor(next_state).unsqueeze(0)\n",
        "                target += self.gamma * torch.max(self.model(next_state_tensor)).item()\n",
        "\n",
        "            state_tensor = torch.FloatTensor(state).unsqueeze(0)\n",
        "            target_tensor = self.model(state_tensor).clone().detach()\n",
        "            target_tensor[0][action] = target\n",
        "\n",
        "            self.optimizer.zero_grad()\n",
        "            output = self.model(state_tensor)\n",
        "            loss = self.criterion(output, target_tensor)\n",
        "            loss.backward()\n",
        "            self.optimizer.step()\n",
        "\n",
        "        if self.epsilon > self.epsilon_min:\n",
        "            self.epsilon *= self.epsilon_decay"
      ],
      "metadata": {
        "id": "VesA0Le_3ygq"
      },
      "execution_count": 18,
      "outputs": []
    },
    {
      "cell_type": "markdown",
      "source": [
        "Quindi, abbiamo sviluppato un agente Deep Q-Learning per interagire con l'ambiente del mercato azionario, migliorando le sue decisioni attraverso l'Experience Replay, che memorizza e riutilizza le esperienze passate per l'addestramento. L'agente bilancia efficacemente l'**Esplorazione vs. Sfruttamento**, prendendo inizialmente azioni casuali e facendo scelte più intelligenti man mano che l'apprendimento progredisce.\n",
        "\n",
        "L'addestramento viene eseguito utilizzando batch di esperienze passate per affinare le prestazioni della rete neurale. Inoltre, viene applicato un fattore di sconto (gamma) per ponderare le ricompense immediate e future, al fine di garantire la redditività a lungo termine."
      ],
      "metadata": {
        "id": "PUZbDKtK4RcJ"
      }
    },
    {
      "cell_type": "markdown",
      "source": [
        "# **Training dell'Agente AI**\n",
        "L'addestramento implica l'esecuzione di più episodi in cui l'agente interagisce con l'ambiente, impara dalle esperienze e aggiorna il suo modello. Ora alleniamo l'agente:"
      ],
      "metadata": {
        "id": "Ykjfy1Fk4pWJ"
      }
    },
    {
      "cell_type": "code",
      "source": [
        "env = TradingEnvironment(data)\n",
        "agent = DQNAgent(state_size=4, action_size=3)\n",
        "batch_size = 32\n",
        "episodes = 500\n",
        "total_rewards = []\n",
        "\n",
        "for episode in range(episodes):\n",
        "    state = env.reset()\n",
        "    done = False\n",
        "    total_reward = 0\n",
        "\n",
        "    while not done:\n",
        "        action = agent.act(state)\n",
        "        next_state, reward, done, _ = env.step(action)\n",
        "        agent.remember(state, action, reward, next_state, done)\n",
        "        state = next_state\n",
        "        total_reward += reward\n",
        "\n",
        "    agent.replay(batch_size)\n",
        "    total_rewards.append(total_reward)\n",
        "    print(f\"Episode {episode+1}/{episodes}, Ricompense ottenute: {total_reward}\")\n",
        "\n",
        "print(\"Training Completato!\")"
      ],
      "metadata": {
        "colab": {
          "base_uri": "https://localhost:8080/"
        },
        "id": "CA6PsKeJ5BeS",
        "outputId": "51c4ce5e-45f3-4de1-f538-24e2b9a6d8b4"
      },
      "execution_count": 19,
      "outputs": [
        {
          "output_type": "stream",
          "name": "stderr",
          "text": [
            "<ipython-input-15-69476ec516c5>:4: FutureWarning: Calling float on a single element Series is deprecated and will raise a TypeError in the future. Use float(ser.iloc[0]) instead\n",
            "  float(data.loc[index, 'Close']),\n",
            "<ipython-input-15-69476ec516c5>:5: FutureWarning: Calling float on a single element Series is deprecated and will raise a TypeError in the future. Use float(ser.iloc[0]) instead\n",
            "  float(data.loc[index, 'SMA_5']),\n",
            "<ipython-input-15-69476ec516c5>:6: FutureWarning: Calling float on a single element Series is deprecated and will raise a TypeError in the future. Use float(ser.iloc[0]) instead\n",
            "  float(data.loc[index, 'SMA_20']),\n",
            "<ipython-input-15-69476ec516c5>:7: FutureWarning: Calling float on a single element Series is deprecated and will raise a TypeError in the future. Use float(ser.iloc[0]) instead\n",
            "  float(data.loc[index, 'Returns'])\n",
            "<ipython-input-16-3a2d88ef8b5d>:17: FutureWarning: Calling float on a single element Series is deprecated and will raise a TypeError in the future. Use float(ser.iloc[0]) instead\n",
            "  price = float(self.data.loc[self.index, 'Close'])\n"
          ]
        },
        {
          "output_type": "stream",
          "name": "stdout",
          "text": [
            "Episode 1/500, Ricompense ottenute: -9820.37873840332\n",
            "Episode 2/500, Ricompense ottenute: 8093.963607788086\n",
            "Episode 3/500, Ricompense ottenute: -9930.717819213867\n",
            "Episode 4/500, Ricompense ottenute: -9826.102462768555\n",
            "Episode 5/500, Ricompense ottenute: 10683.37777709961\n",
            "Episode 6/500, Ricompense ottenute: -9845.937294006348\n",
            "Episode 7/500, Ricompense ottenute: -9870.745506286621\n",
            "Episode 8/500, Ricompense ottenute: -9881.17546081543\n",
            "Episode 9/500, Ricompense ottenute: -9824.255729675293\n",
            "Episode 10/500, Ricompense ottenute: -9995.802536010742\n",
            "Episode 11/500, Ricompense ottenute: -9992.482437133789\n",
            "Episode 12/500, Ricompense ottenute: -9822.856010437012\n",
            "Episode 13/500, Ricompense ottenute: -9931.206802368164\n",
            "Episode 14/500, Ricompense ottenute: -9864.580436706543\n",
            "Episode 15/500, Ricompense ottenute: -9756.150779724121\n",
            "Episode 16/500, Ricompense ottenute: -9865.678215026855\n",
            "Episode 17/500, Ricompense ottenute: -9880.24114227295\n",
            "Episode 18/500, Ricompense ottenute: 9846.268165588379\n",
            "Episode 19/500, Ricompense ottenute: 13552.332969665527\n",
            "Episode 20/500, Ricompense ottenute: -9877.832496643066\n",
            "Episode 21/500, Ricompense ottenute: 8927.003021240234\n",
            "Episode 22/500, Ricompense ottenute: -9837.724479675293\n",
            "Episode 23/500, Ricompense ottenute: -9981.229759216309\n",
            "Episode 24/500, Ricompense ottenute: -9819.613471984863\n",
            "Episode 25/500, Ricompense ottenute: -9988.89535522461\n",
            "Episode 26/500, Ricompense ottenute: -9781.201126098633\n",
            "Episode 27/500, Ricompense ottenute: 4717.969581604004\n",
            "Episode 28/500, Ricompense ottenute: -9747.515640258789\n",
            "Episode 29/500, Ricompense ottenute: -9894.46883392334\n",
            "Episode 30/500, Ricompense ottenute: -9819.811584472656\n",
            "Episode 31/500, Ricompense ottenute: -9790.395240783691\n",
            "Episode 32/500, Ricompense ottenute: -9777.268760681152\n",
            "Episode 33/500, Ricompense ottenute: -9847.802932739258\n",
            "Episode 34/500, Ricompense ottenute: -9887.202659606934\n",
            "Episode 35/500, Ricompense ottenute: -9894.756774902344\n",
            "Episode 36/500, Ricompense ottenute: -9990.667366027832\n",
            "Episode 37/500, Ricompense ottenute: -9866.656639099121\n",
            "Episode 38/500, Ricompense ottenute: -9850.608505249023\n",
            "Episode 39/500, Ricompense ottenute: -9803.240455627441\n",
            "Episode 40/500, Ricompense ottenute: -9852.312767028809\n",
            "Episode 41/500, Ricompense ottenute: -9858.973754882812\n",
            "Episode 42/500, Ricompense ottenute: -9853.055679321289\n",
            "Episode 43/500, Ricompense ottenute: 12803.820274353027\n",
            "Episode 44/500, Ricompense ottenute: -9848.529930114746\n",
            "Episode 45/500, Ricompense ottenute: -9782.043296813965\n",
            "Episode 46/500, Ricompense ottenute: -9867.307075500488\n",
            "Episode 47/500, Ricompense ottenute: -9803.41104888916\n",
            "Episode 48/500, Ricompense ottenute: -9880.599876403809\n",
            "Episode 49/500, Ricompense ottenute: -9810.722465515137\n",
            "Episode 50/500, Ricompense ottenute: 11686.60595703125\n",
            "Episode 51/500, Ricompense ottenute: -9871.038597106934\n",
            "Episode 52/500, Ricompense ottenute: -9861.493576049805\n",
            "Episode 53/500, Ricompense ottenute: -9830.780647277832\n",
            "Episode 54/500, Ricompense ottenute: -9847.907897949219\n",
            "Episode 55/500, Ricompense ottenute: -9829.959281921387\n",
            "Episode 56/500, Ricompense ottenute: -9784.976402282715\n",
            "Episode 57/500, Ricompense ottenute: -9742.283958435059\n",
            "Episode 58/500, Ricompense ottenute: -9971.751983642578\n",
            "Episode 59/500, Ricompense ottenute: -9975.092765808105\n",
            "Episode 60/500, Ricompense ottenute: -9798.190208435059\n",
            "Episode 61/500, Ricompense ottenute: -9805.430717468262\n",
            "Episode 62/500, Ricompense ottenute: 11212.46939086914\n",
            "Episode 63/500, Ricompense ottenute: -9849.712677001953\n",
            "Episode 64/500, Ricompense ottenute: -9812.832984924316\n",
            "Episode 65/500, Ricompense ottenute: -9834.021530151367\n",
            "Episode 66/500, Ricompense ottenute: -9805.813873291016\n",
            "Episode 67/500, Ricompense ottenute: -9973.882446289062\n",
            "Episode 68/500, Ricompense ottenute: -9809.292701721191\n",
            "Episode 69/500, Ricompense ottenute: -9938.204544067383\n",
            "Episode 70/500, Ricompense ottenute: -9863.960609436035\n",
            "Episode 71/500, Ricompense ottenute: -9953.540496826172\n",
            "Episode 72/500, Ricompense ottenute: -9799.916290283203\n",
            "Episode 73/500, Ricompense ottenute: -9857.721473693848\n",
            "Episode 74/500, Ricompense ottenute: -9862.222869873047\n",
            "Episode 75/500, Ricompense ottenute: -9840.254364013672\n",
            "Episode 76/500, Ricompense ottenute: -9895.620712280273\n",
            "Episode 77/500, Ricompense ottenute: 7035.273246765137\n",
            "Episode 78/500, Ricompense ottenute: 12774.36637878418\n",
            "Episode 79/500, Ricompense ottenute: -9868.264068603516\n",
            "Episode 80/500, Ricompense ottenute: -9876.18994140625\n",
            "Episode 81/500, Ricompense ottenute: -9784.253463745117\n",
            "Episode 82/500, Ricompense ottenute: -9815.349952697754\n",
            "Episode 83/500, Ricompense ottenute: -9851.19554901123\n",
            "Episode 84/500, Ricompense ottenute: 5846.028579711914\n",
            "Episode 85/500, Ricompense ottenute: -9833.888076782227\n",
            "Episode 86/500, Ricompense ottenute: 16606.536598205566\n",
            "Episode 87/500, Ricompense ottenute: 13876.700607299805\n",
            "Episode 88/500, Ricompense ottenute: -9997.15316772461\n",
            "Episode 89/500, Ricompense ottenute: -9828.523696899414\n",
            "Episode 90/500, Ricompense ottenute: -9858.493446350098\n",
            "Episode 91/500, Ricompense ottenute: 20490.972633361816\n",
            "Episode 92/500, Ricompense ottenute: -9817.575492858887\n",
            "Episode 93/500, Ricompense ottenute: -9874.00082397461\n",
            "Episode 94/500, Ricompense ottenute: -9846.868782043457\n",
            "Episode 95/500, Ricompense ottenute: -9984.398551940918\n",
            "Episode 96/500, Ricompense ottenute: -9903.404479980469\n",
            "Episode 97/500, Ricompense ottenute: -9776.722618103027\n",
            "Episode 98/500, Ricompense ottenute: -9820.469703674316\n",
            "Episode 99/500, Ricompense ottenute: -9981.640480041504\n",
            "Episode 100/500, Ricompense ottenute: -9829.906028747559\n",
            "Episode 101/500, Ricompense ottenute: -9803.869201660156\n",
            "Episode 102/500, Ricompense ottenute: -9755.114334106445\n",
            "Episode 103/500, Ricompense ottenute: -9830.714179992676\n",
            "Episode 104/500, Ricompense ottenute: -9877.80573272705\n",
            "Episode 105/500, Ricompense ottenute: 8984.519165039062\n",
            "Episode 106/500, Ricompense ottenute: -9874.775177001953\n",
            "Episode 107/500, Ricompense ottenute: -9765.028198242188\n",
            "Episode 108/500, Ricompense ottenute: -9904.861701965332\n",
            "Episode 109/500, Ricompense ottenute: -9789.168296813965\n",
            "Episode 110/500, Ricompense ottenute: -9817.672187805176\n",
            "Episode 111/500, Ricompense ottenute: -9777.537231445312\n",
            "Episode 112/500, Ricompense ottenute: 12596.602600097656\n",
            "Episode 113/500, Ricompense ottenute: 10857.055099487305\n",
            "Episode 114/500, Ricompense ottenute: -9750.38461303711\n",
            "Episode 115/500, Ricompense ottenute: -9813.700340270996\n",
            "Episode 116/500, Ricompense ottenute: -9993.470840454102\n",
            "Episode 117/500, Ricompense ottenute: -9868.182914733887\n",
            "Episode 118/500, Ricompense ottenute: -9855.05037689209\n",
            "Episode 119/500, Ricompense ottenute: -9847.1650390625\n",
            "Episode 120/500, Ricompense ottenute: -9823.148483276367\n",
            "Episode 121/500, Ricompense ottenute: -9853.885368347168\n",
            "Episode 122/500, Ricompense ottenute: -9855.581809997559\n",
            "Episode 123/500, Ricompense ottenute: -9889.362854003906\n",
            "Episode 124/500, Ricompense ottenute: -9829.664161682129\n",
            "Episode 125/500, Ricompense ottenute: -9980.606048583984\n",
            "Episode 126/500, Ricompense ottenute: -9777.876564025879\n",
            "Episode 127/500, Ricompense ottenute: -9978.82585144043\n",
            "Episode 128/500, Ricompense ottenute: -9811.594146728516\n",
            "Episode 129/500, Ricompense ottenute: -9885.080268859863\n",
            "Episode 130/500, Ricompense ottenute: 14959.385375976562\n",
            "Episode 131/500, Ricompense ottenute: -9843.421379089355\n",
            "Episode 132/500, Ricompense ottenute: -9711.828689575195\n",
            "Episode 133/500, Ricompense ottenute: 20200.712829589844\n",
            "Episode 134/500, Ricompense ottenute: -9751.93920135498\n",
            "Episode 135/500, Ricompense ottenute: -9964.978416442871\n",
            "Episode 136/500, Ricompense ottenute: -9857.928695678711\n",
            "Episode 137/500, Ricompense ottenute: 19251.643836975098\n",
            "Episode 138/500, Ricompense ottenute: -9973.46785736084\n",
            "Episode 139/500, Ricompense ottenute: -9870.659118652344\n",
            "Episode 140/500, Ricompense ottenute: -9834.983474731445\n",
            "Episode 141/500, Ricompense ottenute: -9940.983940124512\n",
            "Episode 142/500, Ricompense ottenute: -9972.255867004395\n",
            "Episode 143/500, Ricompense ottenute: 11955.69213104248\n",
            "Episode 144/500, Ricompense ottenute: -9859.916213989258\n",
            "Episode 145/500, Ricompense ottenute: -9860.54874420166\n",
            "Episode 146/500, Ricompense ottenute: -9853.818641662598\n",
            "Episode 147/500, Ricompense ottenute: -9851.18856048584\n",
            "Episode 148/500, Ricompense ottenute: -9998.074096679688\n",
            "Episode 149/500, Ricompense ottenute: -9845.447532653809\n",
            "Episode 150/500, Ricompense ottenute: -9969.856948852539\n",
            "Episode 151/500, Ricompense ottenute: -9885.204528808594\n",
            "Episode 152/500, Ricompense ottenute: -9997.12028503418\n",
            "Episode 153/500, Ricompense ottenute: -9863.762741088867\n",
            "Episode 154/500, Ricompense ottenute: -9904.485481262207\n",
            "Episode 155/500, Ricompense ottenute: 1776.035530090332\n",
            "Episode 156/500, Ricompense ottenute: -9812.754608154297\n",
            "Episode 157/500, Ricompense ottenute: 392.00756072998047\n",
            "Episode 158/500, Ricompense ottenute: 8449.109603881836\n",
            "Episode 159/500, Ricompense ottenute: -9907.040634155273\n",
            "Episode 160/500, Ricompense ottenute: -9813.631164550781\n",
            "Episode 161/500, Ricompense ottenute: -9929.422248840332\n",
            "Episode 162/500, Ricompense ottenute: 1845.3361129760742\n",
            "Episode 163/500, Ricompense ottenute: -9769.561973571777\n",
            "Episode 164/500, Ricompense ottenute: 3971.326675415039\n",
            "Episode 165/500, Ricompense ottenute: -9882.07633972168\n",
            "Episode 166/500, Ricompense ottenute: -9824.586753845215\n",
            "Episode 167/500, Ricompense ottenute: 3830.119918823242\n",
            "Episode 168/500, Ricompense ottenute: -9907.352722167969\n",
            "Episode 169/500, Ricompense ottenute: -690.2069854736328\n",
            "Episode 170/500, Ricompense ottenute: 3106.2340774536133\n",
            "Episode 171/500, Ricompense ottenute: -1210.1139450073242\n",
            "Episode 172/500, Ricompense ottenute: 592.7058639526367\n",
            "Episode 173/500, Ricompense ottenute: -9837.408660888672\n",
            "Episode 174/500, Ricompense ottenute: 4969.78084564209\n",
            "Episode 175/500, Ricompense ottenute: -9793.870330810547\n",
            "Episode 176/500, Ricompense ottenute: -9830.6665725708\n",
            "Episode 177/500, Ricompense ottenute: -9817.260025024414\n",
            "Episode 178/500, Ricompense ottenute: 3043.6530990600586\n",
            "Episode 179/500, Ricompense ottenute: -9860.558517456055\n",
            "Episode 180/500, Ricompense ottenute: 3233.1680908203125\n",
            "Episode 181/500, Ricompense ottenute: -9787.834030151367\n",
            "Episode 182/500, Ricompense ottenute: 11052.373558044434\n",
            "Episode 183/500, Ricompense ottenute: -9883.877792358398\n",
            "Episode 184/500, Ricompense ottenute: -9804.823852539062\n",
            "Episode 185/500, Ricompense ottenute: 13339.199462890625\n",
            "Episode 186/500, Ricompense ottenute: 6794.849952697754\n",
            "Episode 187/500, Ricompense ottenute: -9960.867668151855\n",
            "Episode 188/500, Ricompense ottenute: 3225.094825744629\n",
            "Episode 189/500, Ricompense ottenute: -9874.12134552002\n",
            "Episode 190/500, Ricompense ottenute: 1099.8905487060547\n",
            "Episode 191/500, Ricompense ottenute: -9858.075889587402\n",
            "Episode 192/500, Ricompense ottenute: 12101.186752319336\n",
            "Episode 193/500, Ricompense ottenute: -9990.846115112305\n",
            "Episode 194/500, Ricompense ottenute: 7976.03271484375\n",
            "Episode 195/500, Ricompense ottenute: 477.53804779052734\n",
            "Episode 196/500, Ricompense ottenute: -9859.589553833008\n",
            "Episode 197/500, Ricompense ottenute: -9975.709426879883\n",
            "Episode 198/500, Ricompense ottenute: 1116.6180267333984\n",
            "Episode 199/500, Ricompense ottenute: -9891.838577270508\n",
            "Episode 200/500, Ricompense ottenute: 49.902061462402344\n",
            "Episode 201/500, Ricompense ottenute: -9866.05387878418\n",
            "Episode 202/500, Ricompense ottenute: -9844.47679901123\n",
            "Episode 203/500, Ricompense ottenute: 2357.311683654785\n",
            "Episode 204/500, Ricompense ottenute: 186.48318481445312\n",
            "Episode 205/500, Ricompense ottenute: 4919.0828857421875\n",
            "Episode 206/500, Ricompense ottenute: 4662.853416442871\n",
            "Episode 207/500, Ricompense ottenute: -9927.779754638672\n",
            "Episode 208/500, Ricompense ottenute: -9906.577163696289\n",
            "Episode 209/500, Ricompense ottenute: 1173.185905456543\n",
            "Episode 210/500, Ricompense ottenute: 2878.764793395996\n",
            "Episode 211/500, Ricompense ottenute: 3059.323844909668\n",
            "Episode 212/500, Ricompense ottenute: -9806.484420776367\n",
            "Episode 213/500, Ricompense ottenute: -9823.06362915039\n",
            "Episode 214/500, Ricompense ottenute: -9849.53783416748\n",
            "Episode 215/500, Ricompense ottenute: 732.7236251831055\n",
            "Episode 216/500, Ricompense ottenute: 528.1140289306641\n",
            "Episode 217/500, Ricompense ottenute: 3423.746681213379\n",
            "Episode 218/500, Ricompense ottenute: 10517.815933227539\n",
            "Episode 219/500, Ricompense ottenute: -9989.047592163086\n",
            "Episode 220/500, Ricompense ottenute: 5615.606506347656\n",
            "Episode 221/500, Ricompense ottenute: -9856.840293884277\n",
            "Episode 222/500, Ricompense ottenute: -1157.7792358398438\n",
            "Episode 223/500, Ricompense ottenute: -1642.9147872924805\n",
            "Episode 224/500, Ricompense ottenute: 4816.550880432129\n",
            "Episode 225/500, Ricompense ottenute: 4023.1944580078125\n",
            "Episode 226/500, Ricompense ottenute: 4376.436676025391\n",
            "Episode 227/500, Ricompense ottenute: 3223.4125366210938\n",
            "Episode 228/500, Ricompense ottenute: 266.696533203125\n",
            "Episode 229/500, Ricompense ottenute: 3586.9053802490234\n",
            "Episode 230/500, Ricompense ottenute: 508.51476287841797\n",
            "Episode 231/500, Ricompense ottenute: 1546.3783111572266\n",
            "Episode 232/500, Ricompense ottenute: 1394.225196838379\n",
            "Episode 233/500, Ricompense ottenute: 1991.7599563598633\n",
            "Episode 234/500, Ricompense ottenute: -1100.7134475708008\n",
            "Episode 235/500, Ricompense ottenute: -9910.078575134277\n",
            "Episode 236/500, Ricompense ottenute: -9958.054275512695\n",
            "Episode 237/500, Ricompense ottenute: -9944.8765335083\n",
            "Episode 238/500, Ricompense ottenute: 4800.233940124512\n",
            "Episode 239/500, Ricompense ottenute: 3582.134376525879\n",
            "Episode 240/500, Ricompense ottenute: -9786.05785369873\n",
            "Episode 241/500, Ricompense ottenute: 3936.050605773926\n",
            "Episode 242/500, Ricompense ottenute: -536.3751983642578\n",
            "Episode 243/500, Ricompense ottenute: -9793.859359741211\n",
            "Episode 244/500, Ricompense ottenute: 5390.363456726074\n",
            "Episode 245/500, Ricompense ottenute: -953.4005966186523\n",
            "Episode 246/500, Ricompense ottenute: 735.1469268798828\n",
            "Episode 247/500, Ricompense ottenute: -689.912727355957\n",
            "Episode 248/500, Ricompense ottenute: 2081.355514526367\n",
            "Episode 249/500, Ricompense ottenute: 5606.156051635742\n",
            "Episode 250/500, Ricompense ottenute: 523.6266174316406\n",
            "Episode 251/500, Ricompense ottenute: -2692.6163482666016\n",
            "Episode 252/500, Ricompense ottenute: -8.074623107910156\n",
            "Episode 253/500, Ricompense ottenute: 574.3144226074219\n",
            "Episode 254/500, Ricompense ottenute: 562.889778137207\n",
            "Episode 255/500, Ricompense ottenute: 4239.022064208984\n",
            "Episode 256/500, Ricompense ottenute: -2371.8807373046875\n",
            "Episode 257/500, Ricompense ottenute: 2358.34317779541\n",
            "Episode 258/500, Ricompense ottenute: 2513.466636657715\n",
            "Episode 259/500, Ricompense ottenute: -610.6516036987305\n",
            "Episode 260/500, Ricompense ottenute: -889.1573181152344\n",
            "Episode 261/500, Ricompense ottenute: -420.7155303955078\n",
            "Episode 262/500, Ricompense ottenute: -9777.850914001465\n",
            "Episode 263/500, Ricompense ottenute: -556.7665252685547\n",
            "Episode 264/500, Ricompense ottenute: -1614.0426559448242\n",
            "Episode 265/500, Ricompense ottenute: -341.87413787841797\n",
            "Episode 266/500, Ricompense ottenute: 3579.1009826660156\n",
            "Episode 267/500, Ricompense ottenute: 5260.942100524902\n",
            "Episode 268/500, Ricompense ottenute: -1706.2286834716797\n",
            "Episode 269/500, Ricompense ottenute: -952.0706481933594\n",
            "Episode 270/500, Ricompense ottenute: 5911.127639770508\n",
            "Episode 271/500, Ricompense ottenute: -494.59840393066406\n",
            "Episode 272/500, Ricompense ottenute: 160.2709197998047\n",
            "Episode 273/500, Ricompense ottenute: -146.29203033447266\n",
            "Episode 274/500, Ricompense ottenute: 1321.533546447754\n",
            "Episode 275/500, Ricompense ottenute: 3035.909423828125\n",
            "Episode 276/500, Ricompense ottenute: -9854.559730529785\n",
            "Episode 277/500, Ricompense ottenute: -9778.180625915527\n",
            "Episode 278/500, Ricompense ottenute: -983.3574600219727\n",
            "Episode 279/500, Ricompense ottenute: -2072.5832595825195\n",
            "Episode 280/500, Ricompense ottenute: 2860.6599197387695\n",
            "Episode 281/500, Ricompense ottenute: 3134.3546829223633\n",
            "Episode 282/500, Ricompense ottenute: 2729.976806640625\n",
            "Episode 283/500, Ricompense ottenute: 337.63890838623047\n",
            "Episode 284/500, Ricompense ottenute: 764.2052841186523\n",
            "Episode 285/500, Ricompense ottenute: -184.08776092529297\n",
            "Episode 286/500, Ricompense ottenute: 5103.2856521606445\n",
            "Episode 287/500, Ricompense ottenute: -2508.7936248779297\n",
            "Episode 288/500, Ricompense ottenute: 1061.9758987426758\n",
            "Episode 289/500, Ricompense ottenute: 4755.175193786621\n",
            "Episode 290/500, Ricompense ottenute: 346.01819610595703\n",
            "Episode 291/500, Ricompense ottenute: -1755.9956436157227\n",
            "Episode 292/500, Ricompense ottenute: -9748.169189453125\n",
            "Episode 293/500, Ricompense ottenute: 2257.817672729492\n",
            "Episode 294/500, Ricompense ottenute: 2128.536666870117\n",
            "Episode 295/500, Ricompense ottenute: -1883.4581680297852\n",
            "Episode 296/500, Ricompense ottenute: -48.51207733154297\n",
            "Episode 297/500, Ricompense ottenute: 159.3977813720703\n",
            "Episode 298/500, Ricompense ottenute: 287.8681945800781\n",
            "Episode 299/500, Ricompense ottenute: -1278.5874404907227\n",
            "Episode 300/500, Ricompense ottenute: 327.94029235839844\n",
            "Episode 301/500, Ricompense ottenute: -171.24929809570312\n",
            "Episode 302/500, Ricompense ottenute: 2542.028175354004\n",
            "Episode 303/500, Ricompense ottenute: -9869.36139678955\n",
            "Episode 304/500, Ricompense ottenute: -9880.901588439941\n",
            "Episode 305/500, Ricompense ottenute: -323.9202346801758\n",
            "Episode 306/500, Ricompense ottenute: -1016.4271621704102\n",
            "Episode 307/500, Ricompense ottenute: 1237.2258224487305\n",
            "Episode 308/500, Ricompense ottenute: 5562.962127685547\n",
            "Episode 309/500, Ricompense ottenute: 530.0823135375977\n",
            "Episode 310/500, Ricompense ottenute: -1244.4723281860352\n",
            "Episode 311/500, Ricompense ottenute: -9833.202819824219\n",
            "Episode 312/500, Ricompense ottenute: 1368.5212936401367\n",
            "Episode 313/500, Ricompense ottenute: -1084.566162109375\n",
            "Episode 314/500, Ricompense ottenute: 6733.581558227539\n",
            "Episode 315/500, Ricompense ottenute: 1484.0829620361328\n",
            "Episode 316/500, Ricompense ottenute: 1934.7390747070312\n",
            "Episode 317/500, Ricompense ottenute: -185.29591369628906\n",
            "Episode 318/500, Ricompense ottenute: -9887.545845031738\n",
            "Episode 319/500, Ricompense ottenute: -534.9208450317383\n",
            "Episode 320/500, Ricompense ottenute: 5192.0382080078125\n",
            "Episode 321/500, Ricompense ottenute: 2452.216377258301\n",
            "Episode 322/500, Ricompense ottenute: -162.9901123046875\n",
            "Episode 323/500, Ricompense ottenute: -9873.208198547363\n",
            "Episode 324/500, Ricompense ottenute: -9855.945426940918\n",
            "Episode 325/500, Ricompense ottenute: -9891.96597290039\n",
            "Episode 326/500, Ricompense ottenute: -9808.366004943848\n",
            "Episode 327/500, Ricompense ottenute: -9854.90998840332\n",
            "Episode 328/500, Ricompense ottenute: -9855.794738769531\n",
            "Episode 329/500, Ricompense ottenute: 3344.3684310913086\n",
            "Episode 330/500, Ricompense ottenute: -9804.985313415527\n",
            "Episode 331/500, Ricompense ottenute: -9852.986267089844\n",
            "Episode 332/500, Ricompense ottenute: 16447.88832092285\n",
            "Episode 333/500, Ricompense ottenute: -9821.08755493164\n",
            "Episode 334/500, Ricompense ottenute: -9865.347290039062\n",
            "Episode 335/500, Ricompense ottenute: -9855.209312438965\n",
            "Episode 336/500, Ricompense ottenute: 10309.054389953613\n",
            "Episode 337/500, Ricompense ottenute: 9543.387062072754\n",
            "Episode 338/500, Ricompense ottenute: -9962.861038208008\n",
            "Episode 339/500, Ricompense ottenute: 273.6769561767578\n",
            "Episode 340/500, Ricompense ottenute: -9836.712356567383\n",
            "Episode 341/500, Ricompense ottenute: -9867.377708435059\n",
            "Episode 342/500, Ricompense ottenute: -9824.800094604492\n",
            "Episode 343/500, Ricompense ottenute: -1602.4555130004883\n",
            "Episode 344/500, Ricompense ottenute: -9842.846626281738\n",
            "Episode 345/500, Ricompense ottenute: -9946.722618103027\n",
            "Episode 346/500, Ricompense ottenute: -9975.713752746582\n",
            "Episode 347/500, Ricompense ottenute: -9877.022438049316\n",
            "Episode 348/500, Ricompense ottenute: -9842.539924621582\n",
            "Episode 349/500, Ricompense ottenute: 2443.708770751953\n",
            "Episode 350/500, Ricompense ottenute: -9875.602195739746\n",
            "Episode 351/500, Ricompense ottenute: -9844.00863647461\n",
            "Episode 352/500, Ricompense ottenute: -9887.643142700195\n",
            "Episode 353/500, Ricompense ottenute: -9852.312545776367\n",
            "Episode 354/500, Ricompense ottenute: -9817.386779785156\n",
            "Episode 355/500, Ricompense ottenute: 274.6887664794922\n",
            "Episode 356/500, Ricompense ottenute: -9793.589401245117\n",
            "Episode 357/500, Ricompense ottenute: -9822.848854064941\n",
            "Episode 358/500, Ricompense ottenute: -9996.834777832031\n",
            "Episode 359/500, Ricompense ottenute: -9816.556312561035\n",
            "Episode 360/500, Ricompense ottenute: 1008.460807800293\n",
            "Episode 361/500, Ricompense ottenute: 984.3487930297852\n",
            "Episode 362/500, Ricompense ottenute: -9830.536315917969\n",
            "Episode 363/500, Ricompense ottenute: -9976.46460723877\n",
            "Episode 364/500, Ricompense ottenute: 1234.4790267944336\n",
            "Episode 365/500, Ricompense ottenute: -9890.352737426758\n",
            "Episode 366/500, Ricompense ottenute: -1404.1402206420898\n",
            "Episode 367/500, Ricompense ottenute: -9940.450004577637\n",
            "Episode 368/500, Ricompense ottenute: 1632.0095748901367\n",
            "Episode 369/500, Ricompense ottenute: 231.17707061767578\n",
            "Episode 370/500, Ricompense ottenute: -9841.80256652832\n",
            "Episode 371/500, Ricompense ottenute: 6465.593460083008\n",
            "Episode 372/500, Ricompense ottenute: -571.7706756591797\n",
            "Episode 373/500, Ricompense ottenute: -9921.78980255127\n",
            "Episode 374/500, Ricompense ottenute: 6246.232139587402\n",
            "Episode 375/500, Ricompense ottenute: -9980.79899597168\n",
            "Episode 376/500, Ricompense ottenute: -9898.519538879395\n",
            "Episode 377/500, Ricompense ottenute: -9863.297721862793\n",
            "Episode 378/500, Ricompense ottenute: -881.6917495727539\n",
            "Episode 379/500, Ricompense ottenute: -9880.566497802734\n",
            "Episode 380/500, Ricompense ottenute: -9853.068923950195\n",
            "Episode 381/500, Ricompense ottenute: 2379.4444427490234\n",
            "Episode 382/500, Ricompense ottenute: -9996.192359924316\n",
            "Episode 383/500, Ricompense ottenute: 6833.786827087402\n",
            "Episode 384/500, Ricompense ottenute: -1519.3130950927734\n",
            "Episode 385/500, Ricompense ottenute: -9767.188026428223\n",
            "Episode 386/500, Ricompense ottenute: -9843.451171875\n",
            "Episode 387/500, Ricompense ottenute: -9909.357612609863\n",
            "Episode 388/500, Ricompense ottenute: -9876.865921020508\n",
            "Episode 389/500, Ricompense ottenute: 9479.059913635254\n",
            "Episode 390/500, Ricompense ottenute: -9883.271011352539\n",
            "Episode 391/500, Ricompense ottenute: -9994.193489074707\n",
            "Episode 392/500, Ricompense ottenute: -9827.767616271973\n",
            "Episode 393/500, Ricompense ottenute: -9811.047622680664\n",
            "Episode 394/500, Ricompense ottenute: -9879.533340454102\n",
            "Episode 395/500, Ricompense ottenute: -9854.173614501953\n",
            "Episode 396/500, Ricompense ottenute: -9852.331871032715\n",
            "Episode 397/500, Ricompense ottenute: 9288.801612854004\n",
            "Episode 398/500, Ricompense ottenute: -9997.347221374512\n",
            "Episode 399/500, Ricompense ottenute: -9814.762733459473\n",
            "Episode 400/500, Ricompense ottenute: -9809.584899902344\n",
            "Episode 401/500, Ricompense ottenute: -9809.214050292969\n",
            "Episode 402/500, Ricompense ottenute: -9841.048324584961\n",
            "Episode 403/500, Ricompense ottenute: -9923.750679016113\n",
            "Episode 404/500, Ricompense ottenute: -9886.375610351562\n",
            "Episode 405/500, Ricompense ottenute: -9835.093048095703\n",
            "Episode 406/500, Ricompense ottenute: 12795.839668273926\n",
            "Episode 407/500, Ricompense ottenute: -9995.175010681152\n",
            "Episode 408/500, Ricompense ottenute: -9953.419570922852\n",
            "Episode 409/500, Ricompense ottenute: -9999.291381835938\n",
            "Episode 410/500, Ricompense ottenute: 16999.014541625977\n",
            "Episode 411/500, Ricompense ottenute: -9951.369674682617\n",
            "Episode 412/500, Ricompense ottenute: -9823.974143981934\n",
            "Episode 413/500, Ricompense ottenute: -9825.239929199219\n",
            "Episode 414/500, Ricompense ottenute: -9820.873794555664\n",
            "Episode 415/500, Ricompense ottenute: -9891.055709838867\n",
            "Episode 416/500, Ricompense ottenute: -9985.925857543945\n",
            "Episode 417/500, Ricompense ottenute: -9863.415161132812\n",
            "Episode 418/500, Ricompense ottenute: -9884.10464477539\n",
            "Episode 419/500, Ricompense ottenute: -9904.263343811035\n",
            "Episode 420/500, Ricompense ottenute: -9985.720741271973\n",
            "Episode 421/500, Ricompense ottenute: -9988.283164978027\n",
            "Episode 422/500, Ricompense ottenute: -9964.625045776367\n",
            "Episode 423/500, Ricompense ottenute: -9998.465393066406\n",
            "Episode 424/500, Ricompense ottenute: -9872.635620117188\n",
            "Episode 425/500, Ricompense ottenute: -9970.485900878906\n",
            "Episode 426/500, Ricompense ottenute: 1071.3984146118164\n",
            "Episode 427/500, Ricompense ottenute: 951.0009613037109\n",
            "Episode 428/500, Ricompense ottenute: -975.962043762207\n",
            "Episode 429/500, Ricompense ottenute: -1699.4374694824219\n",
            "Episode 430/500, Ricompense ottenute: -985.7154006958008\n",
            "Episode 431/500, Ricompense ottenute: 501.8389663696289\n",
            "Episode 432/500, Ricompense ottenute: 184.62449645996094\n",
            "Episode 433/500, Ricompense ottenute: -9926.569389343262\n",
            "Episode 434/500, Ricompense ottenute: -993.1018447875977\n",
            "Episode 435/500, Ricompense ottenute: 1428.7739028930664\n",
            "Episode 436/500, Ricompense ottenute: 3270.1357650756836\n",
            "Episode 437/500, Ricompense ottenute: -1256.6100387573242\n",
            "Episode 438/500, Ricompense ottenute: 1420.0121231079102\n",
            "Episode 439/500, Ricompense ottenute: 532.2948455810547\n",
            "Episode 440/500, Ricompense ottenute: -1728.301498413086\n",
            "Episode 441/500, Ricompense ottenute: -942.5754089355469\n",
            "Episode 442/500, Ricompense ottenute: -2006.589988708496\n",
            "Episode 443/500, Ricompense ottenute: 962.5638961791992\n",
            "Episode 444/500, Ricompense ottenute: 413.59777069091797\n",
            "Episode 445/500, Ricompense ottenute: 64.79790496826172\n",
            "Episode 446/500, Ricompense ottenute: -745.1226272583008\n",
            "Episode 447/500, Ricompense ottenute: 2666.800033569336\n",
            "Episode 448/500, Ricompense ottenute: 2681.5554962158203\n",
            "Episode 449/500, Ricompense ottenute: -780.0129089355469\n",
            "Episode 450/500, Ricompense ottenute: 85.279296875\n",
            "Episode 451/500, Ricompense ottenute: -619.6930465698242\n",
            "Episode 452/500, Ricompense ottenute: -598.3360214233398\n",
            "Episode 453/500, Ricompense ottenute: 1029.1839218139648\n",
            "Episode 454/500, Ricompense ottenute: 3330.3067169189453\n",
            "Episode 455/500, Ricompense ottenute: -1238.905876159668\n",
            "Episode 456/500, Ricompense ottenute: -441.2109680175781\n",
            "Episode 457/500, Ricompense ottenute: -19.841712951660156\n",
            "Episode 458/500, Ricompense ottenute: 222.2051544189453\n",
            "Episode 459/500, Ricompense ottenute: -811.2294235229492\n",
            "Episode 460/500, Ricompense ottenute: -1858.5778579711914\n",
            "Episode 461/500, Ricompense ottenute: -767.833740234375\n",
            "Episode 462/500, Ricompense ottenute: -500.4450912475586\n",
            "Episode 463/500, Ricompense ottenute: -9858.144828796387\n",
            "Episode 464/500, Ricompense ottenute: -951.6092376708984\n",
            "Episode 465/500, Ricompense ottenute: -9929.279922485352\n",
            "Episode 466/500, Ricompense ottenute: -520.2657852172852\n",
            "Episode 467/500, Ricompense ottenute: 4477.319709777832\n",
            "Episode 468/500, Ricompense ottenute: -462.33435821533203\n",
            "Episode 469/500, Ricompense ottenute: -762.704833984375\n",
            "Episode 470/500, Ricompense ottenute: 517.7258987426758\n",
            "Episode 471/500, Ricompense ottenute: 622.4793243408203\n",
            "Episode 472/500, Ricompense ottenute: -13.814552307128906\n",
            "Episode 473/500, Ricompense ottenute: 2591.2901306152344\n",
            "Episode 474/500, Ricompense ottenute: -500.62699127197266\n",
            "Episode 475/500, Ricompense ottenute: 899.9027252197266\n",
            "Episode 476/500, Ricompense ottenute: 725.7990417480469\n",
            "Episode 477/500, Ricompense ottenute: -671.6772613525391\n",
            "Episode 478/500, Ricompense ottenute: -1876.2659072875977\n",
            "Episode 479/500, Ricompense ottenute: -84.32000732421875\n",
            "Episode 480/500, Ricompense ottenute: -9986.472534179688\n",
            "Episode 481/500, Ricompense ottenute: -9993.02897644043\n",
            "Episode 482/500, Ricompense ottenute: 11322.655136108398\n",
            "Episode 483/500, Ricompense ottenute: -9740.518676757812\n",
            "Episode 484/500, Ricompense ottenute: 3467.727798461914\n",
            "Episode 485/500, Ricompense ottenute: 5153.121543884277\n",
            "Episode 486/500, Ricompense ottenute: -9848.394470214844\n",
            "Episode 487/500, Ricompense ottenute: -9789.954551696777\n",
            "Episode 488/500, Ricompense ottenute: -9990.236221313477\n",
            "Episode 489/500, Ricompense ottenute: 4546.801361083984\n",
            "Episode 490/500, Ricompense ottenute: -9959.247909545898\n",
            "Episode 491/500, Ricompense ottenute: 12730.933753967285\n",
            "Episode 492/500, Ricompense ottenute: 5673.171859741211\n",
            "Episode 493/500, Ricompense ottenute: -9912.148788452148\n",
            "Episode 494/500, Ricompense ottenute: 670.3383026123047\n",
            "Episode 495/500, Ricompense ottenute: 22357.606475830078\n",
            "Episode 496/500, Ricompense ottenute: -9810.28490447998\n",
            "Episode 497/500, Ricompense ottenute: 4111.508529663086\n",
            "Episode 498/500, Ricompense ottenute: -9774.535835266113\n",
            "Episode 499/500, Ricompense ottenute: -9786.79842376709\n",
            "Episode 500/500, Ricompense ottenute: 5855.191429138184\n",
            "Training Completato!\n"
          ]
        }
      ]
    },
    {
      "cell_type": "markdown",
      "source": [
        "Qui, abbiamo addestrato l'Agente di Trading AI utilizzando Deep Q-Learning, simulando 500 sessioni di trading in cui l'agente ha imparato dall'esperienza. Ha sfruttato Esplorazione e Sfruttamento, inizialmente prendendo azioni casuali per poi fare decisioni più informate man mano che l'addestramento progrediva.\n",
        "\n",
        "L'**Experience Replay** viene utilizzato per memorizzare le esperienze passate, permettendo alla rete neurale di apprendere tramite l'addestramento su batch. Durante tutto il processo, abbiamo monitorato le ricompense per misurare i miglioramenti delle prestazioni dell'agente nel tempo.\n",
        "\n",
        "Dopo l'addestramento, possiamo testare l'agente su nuovi dati di mercato, consentendogli di prendere decisioni senza esplorazione casuale:"
      ],
      "metadata": {
        "id": "zLd9CGM47Ao_"
      }
    },
    {
      "cell_type": "code",
      "source": [
        "# Creo una nuova istanza dell'ambiente per il test.\n",
        "test_env = TradingEnvironment(data)\n",
        "state = test_env.reset()\n",
        "done = False\n",
        "\n",
        "# Simulo una sessione di trading utilizzando l'agente addestrato\n",
        "while not done:\n",
        "    # scegliere sempre l'azione migliore (exploitation)\n",
        "    action = agent.act(state)\n",
        "    next_state, reward, done, _ = test_env.step(action)\n",
        "    state = next_state if next_state is not None else state\n",
        "\n",
        "final_balance = test_env.balance\n",
        "profit = final_balance - test_env.initial_balance\n",
        "print(f\"Bilancio finale dopo il testing: ${final_balance:.2f}\")\n",
        "print(f\"Profitto Totale: ${profit:.2f}\")"
      ],
      "metadata": {
        "colab": {
          "base_uri": "https://localhost:8080/"
        },
        "id": "-mcbpttb8WGr",
        "outputId": "122b5a32-8c56-4e60-d543-7cf12f259d17"
      },
      "execution_count": 20,
      "outputs": [
        {
          "output_type": "stream",
          "name": "stderr",
          "text": [
            "<ipython-input-15-69476ec516c5>:4: FutureWarning: Calling float on a single element Series is deprecated and will raise a TypeError in the future. Use float(ser.iloc[0]) instead\n",
            "  float(data.loc[index, 'Close']),\n",
            "<ipython-input-15-69476ec516c5>:5: FutureWarning: Calling float on a single element Series is deprecated and will raise a TypeError in the future. Use float(ser.iloc[0]) instead\n",
            "  float(data.loc[index, 'SMA_5']),\n",
            "<ipython-input-15-69476ec516c5>:6: FutureWarning: Calling float on a single element Series is deprecated and will raise a TypeError in the future. Use float(ser.iloc[0]) instead\n",
            "  float(data.loc[index, 'SMA_20']),\n",
            "<ipython-input-15-69476ec516c5>:7: FutureWarning: Calling float on a single element Series is deprecated and will raise a TypeError in the future. Use float(ser.iloc[0]) instead\n",
            "  float(data.loc[index, 'Returns'])\n",
            "<ipython-input-16-3a2d88ef8b5d>:17: FutureWarning: Calling float on a single element Series is deprecated and will raise a TypeError in the future. Use float(ser.iloc[0]) instead\n",
            "  price = float(self.data.loc[self.index, 'Close'])\n"
          ]
        },
        {
          "output_type": "stream",
          "name": "stdout",
          "text": [
            "Bilancio finale dopo il testing: $26202.73\n",
            "Profitto Totale: $16202.73\n"
          ]
        }
      ]
    },
    {
      "cell_type": "markdown",
      "source": [
        "L'agente è partito con $10000 ed ha concluso con $26202.73, andando così in profitto di **$16202.73**"
      ],
      "metadata": {
        "id": "TdTQj-egB6eW"
      }
    },
    {
      "cell_type": "markdown",
      "source": [
        "# **Sintesi:**\n",
        "Quindi, ho  esplorato come costruire un agente di trading AI utilizzando Agentic AI e il Deep Q-Learning, permettendogli di prendere decisioni di trading autonome. Dopo l'addestramento, il nostro agente AI ha generato con successo un profitto positivo, dimostrando la sua capacità di affrontare le fluttuazioni del mercato.\n"
      ],
      "metadata": {
        "id": "tSjaFyHQCgQp"
      }
    }
  ]
}